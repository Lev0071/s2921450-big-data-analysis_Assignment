{
 "cells": [
  {
   "cell_type": "code",
   "execution_count": 2,
   "id": "aad6309f",
   "metadata": {},
   "outputs": [],
   "source": [
    "import numpy as np\n",
    "import pandas as pd\n",
    "import matplotlib.pyplot as plt\n",
    "import seaborn as sns\n",
    "\n",
    "#Load job market\n",
    "df = pd.read_csv('job-market(2).csv')"
   ]
  },
  {
   "cell_type": "code",
   "execution_count": 4,
   "id": "77803cfa",
   "metadata": {},
   "outputs": [],
   "source": [
    "bySalary = df.groupby('LowestSalary')\n",
    "salaryStats = bySalary.count()\n",
    "salaryStats['Count'] = salaryStats['Id']"
   ]
  },
  {
   "cell_type": "code",
   "execution_count": 5,
   "id": "054dcc08",
   "metadata": {},
   "outputs": [
    {
     "data": {
      "text/plain": [
       "LowestSalary\n",
       "0.0     3894\n",
       "30.0    1842\n",
       "40.0    2519\n",
       "50.0    1844\n",
       "Name: Count, dtype: int64"
      ]
     },
     "execution_count": 5,
     "metadata": {},
     "output_type": "execute_result"
    }
   ],
   "source": [
    "salaryStats['Count']"
   ]
  },
  {
   "cell_type": "code",
   "execution_count": null,
   "id": "aa5f1ac4",
   "metadata": {},
   "outputs": [],
   "source": []
  }
 ],
 "metadata": {
  "kernelspec": {
   "display_name": "Python 3 (ipykernel)",
   "language": "python",
   "name": "python3"
  },
  "language_info": {
   "codemirror_mode": {
    "name": "ipython",
    "version": 3
   },
   "file_extension": ".py",
   "mimetype": "text/x-python",
   "name": "python",
   "nbconvert_exporter": "python",
   "pygments_lexer": "ipython3",
   "version": "3.9.7"
  }
 },
 "nbformat": 4,
 "nbformat_minor": 5
}
