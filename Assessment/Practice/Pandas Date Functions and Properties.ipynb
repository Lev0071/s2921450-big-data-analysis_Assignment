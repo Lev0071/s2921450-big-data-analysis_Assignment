{
 "cells": [
  {
   "cell_type": "code",
   "execution_count": 1,
   "id": "06abaec8",
   "metadata": {},
   "outputs": [],
   "source": [
    "#https://www.youtube.com/watch?v=0qcYgDBJ56I\n",
    "import pandas as pd"
   ]
  },
  {
   "cell_type": "code",
   "execution_count": 2,
   "id": "20433cb5",
   "metadata": {},
   "outputs": [],
   "source": [
    "data = pd.read_csv('data.csv')"
   ]
  },
  {
   "cell_type": "code",
   "execution_count": 3,
   "id": "49ad5081",
   "metadata": {},
   "outputs": [
    {
     "data": {
      "text/plain": [
       "Date         datetime64[ns]\n",
       "Open                float64\n",
       "High                float64\n",
       "Low                 float64\n",
       "Close               float64\n",
       "Adj Close           float64\n",
       "Volume                int64\n",
       "dtype: object"
      ]
     },
     "execution_count": 3,
     "metadata": {},
     "output_type": "execute_result"
    }
   ],
   "source": [
    "data['Date'] = pd.to_datetime(data['Date'])\n",
    "data.dtypes"
   ]
  },
  {
   "cell_type": "code",
   "execution_count": 4,
   "id": "4b378d6f",
   "metadata": {},
   "outputs": [
    {
     "data": {
      "text/plain": [
       "0    138\n",
       "1    139\n",
       "2    140\n",
       "3    141\n",
       "4    142\n",
       "Name: Date, dtype: int64"
      ]
     },
     "execution_count": 4,
     "metadata": {},
     "output_type": "execute_result"
    }
   ],
   "source": [
    "data['Date'].dt.dayofyear.head()"
   ]
  },
  {
   "cell_type": "code",
   "execution_count": 5,
   "id": "5cecc2f0",
   "metadata": {},
   "outputs": [
    {
     "data": {
      "text/plain": [
       "0    Sat\n",
       "1    Sun\n",
       "2    Mon\n",
       "3    Tue\n",
       "4    Wed\n",
       "Name: Date, dtype: object"
      ]
     },
     "execution_count": 5,
     "metadata": {},
     "output_type": "execute_result"
    }
   ],
   "source": [
    "data['Date'].dt.strftime(\"%a\").head()\n",
    "\n",
    "# %A -Full weekday name like MONDAY, TUESDAY etc\n",
    "# %w -Weekday as a decimal number like 1,2,3 etc\n",
    "# %a -Abbreviated weekday name like SUN,MON etc\n",
    "# %Y -year\n",
    "# %m -month\n",
    "# %d -day\n",
    "# %H -hours\n",
    "# %M -minutes\n",
    "# %S -seconds"
   ]
  },
  {
   "cell_type": "code",
   "execution_count": 6,
   "id": "3964da49",
   "metadata": {},
   "outputs": [
    {
     "name": "stderr",
     "output_type": "stream",
     "text": [
      "/var/folders/mx/b2s2fns51plfn__sspbylxk00000gn/T/ipykernel_776/1367111906.py:1: FutureWarning: Series.dt.weekofyear and Series.dt.week have been deprecated. Please use Series.dt.isocalendar().week instead.\n",
      "  data['Date'].dt.weekofyear.head()\n"
     ]
    },
    {
     "data": {
      "text/plain": [
       "0    20\n",
       "1    20\n",
       "2    21\n",
       "3    21\n",
       "4    21\n",
       "Name: Date, dtype: int64"
      ]
     },
     "execution_count": 6,
     "metadata": {},
     "output_type": "execute_result"
    }
   ],
   "source": [
    "data['Date'].dt.weekofyear.head()\n",
    "# between 1 - 52"
   ]
  },
  {
   "cell_type": "code",
   "execution_count": 7,
   "id": "29c3f9ad",
   "metadata": {},
   "outputs": [
    {
     "data": {
      "text/plain": [
       "0    5\n",
       "1    6\n",
       "2    0\n",
       "3    1\n",
       "4    2\n",
       "Name: Date, dtype: int64"
      ]
     },
     "execution_count": 7,
     "metadata": {},
     "output_type": "execute_result"
    }
   ],
   "source": [
    "data['Date'].dt.dayofweek.head()"
   ]
  },
  {
   "cell_type": "code",
   "execution_count": 8,
   "id": "be196ffd",
   "metadata": {},
   "outputs": [
    {
     "name": "stderr",
     "output_type": "stream",
     "text": [
      "/var/folders/mx/b2s2fns51plfn__sspbylxk00000gn/T/ipykernel_776/2806098223.py:2: UserWarning: Pandas doesn't allow columns to be created via a new attribute name - see https://pandas.pydata.org/pandas-docs/stable/indexing.html#attribute-access\n",
      "  data.year = data['Date'].dt.year\n"
     ]
    },
    {
     "data": {
      "text/plain": [
       "2019    14\n",
       "Name: Date, dtype: int64"
      ]
     },
     "execution_count": 8,
     "metadata": {},
     "output_type": "execute_result"
    }
   ],
   "source": [
    "# extract year month day etc to crete a ne column in you data set\n",
    "data.year = data['Date'].dt.year\n",
    "data.year.value_counts()"
   ]
  },
  {
   "cell_type": "code",
   "execution_count": 9,
   "id": "e394d590",
   "metadata": {},
   "outputs": [
    {
     "data": {
      "text/html": [
       "<div>\n",
       "<style scoped>\n",
       "    .dataframe tbody tr th:only-of-type {\n",
       "        vertical-align: middle;\n",
       "    }\n",
       "\n",
       "    .dataframe tbody tr th {\n",
       "        vertical-align: top;\n",
       "    }\n",
       "\n",
       "    .dataframe thead th {\n",
       "        text-align: right;\n",
       "    }\n",
       "</style>\n",
       "<table border=\"1\" class=\"dataframe\">\n",
       "  <thead>\n",
       "    <tr style=\"text-align: right;\">\n",
       "      <th></th>\n",
       "      <th>Date</th>\n",
       "      <th>Open</th>\n",
       "      <th>High</th>\n",
       "      <th>Low</th>\n",
       "      <th>Close</th>\n",
       "      <th>Adj Close</th>\n",
       "      <th>Volume</th>\n",
       "      <th>Year</th>\n",
       "    </tr>\n",
       "  </thead>\n",
       "  <tbody>\n",
       "    <tr>\n",
       "      <th>0</th>\n",
       "      <td>2019-05-18</td>\n",
       "      <td>7266.080078</td>\n",
       "      <td>8281.660156</td>\n",
       "      <td>7257.259766</td>\n",
       "      <td>8193.139648</td>\n",
       "      <td>8193.139648</td>\n",
       "      <td>723011166</td>\n",
       "      <td>2019</td>\n",
       "    </tr>\n",
       "    <tr>\n",
       "      <th>1</th>\n",
       "      <td>2019-05-19</td>\n",
       "      <td>8193.139648</td>\n",
       "      <td>8193.139648</td>\n",
       "      <td>7591.850098</td>\n",
       "      <td>7998.290039</td>\n",
       "      <td>7998.290039</td>\n",
       "      <td>637617163</td>\n",
       "      <td>2019</td>\n",
       "    </tr>\n",
       "    <tr>\n",
       "      <th>2</th>\n",
       "      <td>2019-05-20</td>\n",
       "      <td>7998.290039</td>\n",
       "      <td>8102.319824</td>\n",
       "      <td>7807.770020</td>\n",
       "      <td>7947.930176</td>\n",
       "      <td>7947.930176</td>\n",
       "      <td>357803946</td>\n",
       "      <td>2019</td>\n",
       "    </tr>\n",
       "    <tr>\n",
       "      <th>3</th>\n",
       "      <td>2019-05-21</td>\n",
       "      <td>7947.930176</td>\n",
       "      <td>8033.759766</td>\n",
       "      <td>7533.660156</td>\n",
       "      <td>7626.890137</td>\n",
       "      <td>7626.890137</td>\n",
       "      <td>424501866</td>\n",
       "      <td>2019</td>\n",
       "    </tr>\n",
       "    <tr>\n",
       "      <th>4</th>\n",
       "      <td>2019-05-22</td>\n",
       "      <td>7626.890137</td>\n",
       "      <td>7971.259766</td>\n",
       "      <td>7478.740234</td>\n",
       "      <td>7876.500000</td>\n",
       "      <td>7876.500000</td>\n",
       "      <td>386766321</td>\n",
       "      <td>2019</td>\n",
       "    </tr>\n",
       "  </tbody>\n",
       "</table>\n",
       "</div>"
      ],
      "text/plain": [
       "        Date         Open         High          Low        Close    Adj Close  \\\n",
       "0 2019-05-18  7266.080078  8281.660156  7257.259766  8193.139648  8193.139648   \n",
       "1 2019-05-19  8193.139648  8193.139648  7591.850098  7998.290039  7998.290039   \n",
       "2 2019-05-20  7998.290039  8102.319824  7807.770020  7947.930176  7947.930176   \n",
       "3 2019-05-21  7947.930176  8033.759766  7533.660156  7626.890137  7626.890137   \n",
       "4 2019-05-22  7626.890137  7971.259766  7478.740234  7876.500000  7876.500000   \n",
       "\n",
       "      Volume  Year  \n",
       "0  723011166  2019  \n",
       "1  637617163  2019  \n",
       "2  357803946  2019  \n",
       "3  424501866  2019  \n",
       "4  386766321  2019  "
      ]
     },
     "execution_count": 9,
     "metadata": {},
     "output_type": "execute_result"
    }
   ],
   "source": [
    "data['Year'] = data['Date'].dt.year\n",
    "data.head()"
   ]
  },
  {
   "cell_type": "code",
   "execution_count": 10,
   "id": "f74dabc6",
   "metadata": {},
   "outputs": [
    {
     "name": "stderr",
     "output_type": "stream",
     "text": [
      "/var/folders/mx/b2s2fns51plfn__sspbylxk00000gn/T/ipykernel_776/619523928.py:1: UserWarning: Pandas doesn't allow columns to be created via a new attribute name - see https://pandas.pydata.org/pandas-docs/stable/indexing.html#attribute-access\n",
      "  data.month = data['Date'].dt.month\n"
     ]
    },
    {
     "data": {
      "text/plain": [
       "5    14\n",
       "Name: Date, dtype: int64"
      ]
     },
     "execution_count": 10,
     "metadata": {},
     "output_type": "execute_result"
    }
   ],
   "source": [
    "data.month = data['Date'].dt.month\n",
    "data.month.value_counts()"
   ]
  },
  {
   "cell_type": "code",
   "execution_count": null,
   "id": "a768f85c",
   "metadata": {},
   "outputs": [],
   "source": []
  }
 ],
 "metadata": {
  "kernelspec": {
   "display_name": "Python 3 (ipykernel)",
   "language": "python",
   "name": "python3"
  },
  "language_info": {
   "codemirror_mode": {
    "name": "ipython",
    "version": 3
   },
   "file_extension": ".py",
   "mimetype": "text/x-python",
   "name": "python",
   "nbconvert_exporter": "python",
   "pygments_lexer": "ipython3",
   "version": "3.9.7"
  }
 },
 "nbformat": 4,
 "nbformat_minor": 5
}
